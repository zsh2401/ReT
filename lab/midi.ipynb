{
 "cells": [
  {
   "cell_type": "code",
   "id": "initial_id",
   "metadata": {
    "collapsed": true,
    "ExecuteTime": {
     "end_time": "2024-12-04T06:32:26.955274Z",
     "start_time": "2024-12-04T06:32:26.952405Z"
    }
   },
   "source": [
    "import mido\n",
    "from mido import MidiTrack, Message, MidiFile, MidiFile"
   ],
   "outputs": [],
   "execution_count": 28
  },
  {
   "metadata": {
    "ExecuteTime": {
     "end_time": "2024-12-04T07:11:45.186237Z",
     "start_time": "2024-12-04T07:11:44.356743Z"
    }
   },
   "cell_type": "code",
   "source": [
    "mid = mido.MidiFile()\n",
    "track = MidiTrack()\n",
    "track2 = MidiTrack()\n",
    "mid.tracks.append(track)\n",
    "mid.tracks.append(track2)\n",
    "\n",
    "track.append(Message('program_change', program=12, time=0))\n",
    "track2.append(Message('program_change', program=12, time=0))\n",
    "\n",
    "# 音符开始\n",
    "track.append(Message('note_on', note=64, velocity=64, time=32))\n",
    "track2.append(Message('note_on', note=64, velocity=64, time=256))\n",
    "\n",
    "# 音符结束\n",
    "track.append(Message('note_off', note=64, velocity=127, time=32))\n",
    "# track2.append(Message('program_change', program=12, time=64))\n",
    "\n",
    "mid.save(\"new_song.mid\")\n",
    "from midi2audio import FluidSynth\n",
    "\n",
    "# https://musical-artifacts.com/artifacts/855\n",
    "fs = FluidSynth(sound_font='./lab/SGM-v2.01-NicePianosGuitarsBass-V1.2.sf2')  # 指定 SoundFont 文件\n",
    "fs.midi_to_audio('new_song.mid', 'output.wav')\n",
    "import IPython\n",
    "\n",
    "IPython.display.Audio(\"output.wav\")"
   ],
   "id": "8c8212bd0d5204f",
   "outputs": [
    {
     "name": "stdout",
     "output_type": "stream",
     "text": [
      "FluidSynth runtime version 2.4.1\n",
      "Copyright (C) 2000-2024 Peter Hanappe and others.\n",
      "Distributed under the LGPL license.\n",
      "SoundFont(R) is a registered trademark of Creative Technology Ltd.\n",
      "\n",
      "Rendering audio to file 'output.wav'..\n"
     ]
    },
    {
     "name": "stderr",
     "output_type": "stream",
     "text": [
      "fluidsynth: warning: End of the MIDI file reached, but not all notes have received a note off event! OFFing them now! Run with --verbose to spot pending voices.\n"
     ]
    },
    {
     "ename": "AttributeError",
     "evalue": "'MidiFile' object has no attribute 'tps'",
     "output_type": "error",
     "traceback": [
      "\u001B[0;31m---------------------------------------------------------------------------\u001B[0m",
      "\u001B[0;31mAttributeError\u001B[0m                            Traceback (most recent call last)",
      "Cell \u001B[0;32mIn[38], line 24\u001B[0m\n\u001B[1;32m     22\u001B[0m fs\u001B[38;5;241m.\u001B[39mmidi_to_audio(\u001B[38;5;124m'\u001B[39m\u001B[38;5;124mnew_song.mid\u001B[39m\u001B[38;5;124m'\u001B[39m, \u001B[38;5;124m'\u001B[39m\u001B[38;5;124moutput.wav\u001B[39m\u001B[38;5;124m'\u001B[39m)\n\u001B[1;32m     23\u001B[0m \u001B[38;5;28;01mimport\u001B[39;00m \u001B[38;5;21;01mIPython\u001B[39;00m\n\u001B[0;32m---> 24\u001B[0m \u001B[38;5;28mprint\u001B[39m(mid\u001B[38;5;241m.\u001B[39mtps)\n\u001B[1;32m     25\u001B[0m IPython\u001B[38;5;241m.\u001B[39mdisplay\u001B[38;5;241m.\u001B[39mAudio(\u001B[38;5;124m\"\u001B[39m\u001B[38;5;124moutput.wav\u001B[39m\u001B[38;5;124m\"\u001B[39m)\n",
      "\u001B[0;31mAttributeError\u001B[0m: 'MidiFile' object has no attribute 'tps'"
     ]
    }
   ],
   "execution_count": 38
  },
  {
   "metadata": {
    "ExecuteTime": {
     "end_time": "2024-12-04T06:32:31.044208Z",
     "start_time": "2024-12-04T06:32:31.041176Z"
    }
   },
   "cell_type": "code",
   "source": [
    "import mido\n",
    "\n",
    "midi = mido.MidiFile(\"new_song.mid\")\n",
    "\n",
    "# sequence = []\n",
    "for track in midi.tracks:\n",
    "    for msg in track:\n",
    "        print(msg)"
   ],
   "id": "2afb127fab57b01",
   "outputs": [
    {
     "name": "stdout",
     "output_type": "stream",
     "text": [
      "program_change channel=0 program=12 time=0\n",
      "note_on channel=0 note=64 velocity=64 time=32\n",
      "note_off channel=0 note=64 velocity=127 time=32\n",
      "MetaMessage('end_of_track', time=0)\n",
      "program_change channel=0 program=12 time=0\n",
      "note_on channel=0 note=64 velocity=64 time=256\n",
      "MetaMessage('end_of_track', time=0)\n"
     ]
    }
   ],
   "execution_count": 31
  },
  {
   "metadata": {
    "ExecuteTime": {
     "end_time": "2024-12-04T07:17:15.908714Z",
     "start_time": "2024-12-04T07:17:15.893472Z"
    }
   },
   "cell_type": "code",
   "source": [
    "def msg_to_token(single_msg):\n",
    "    msg_tokens = []\n",
    "    if single_msg.time > 0:\n",
    "        msg_tokens.append(f\"Wait_{single_msg.time}\")\n",
    "    if single_msg.is_meta:\n",
    "        pass\n",
    "    elif single_msg.type == \"note_on\" and single_msg.velocity > 0:\n",
    "        msg_tokens.append(f\"Note_On_{single_msg.note}\")\n",
    "        msg_tokens.append(f\"Velocity_{single_msg.velocity}\")\n",
    "    elif single_msg.type == \"note_off\" or (\n",
    "            single_msg.type == \"note_on\" and single_msg.velocity == 0\n",
    "    ):\n",
    "        msg_tokens.append(f\"Note_Off_{single_msg.note}\")\n",
    "    elif single_msg.type == \"control_change\":\n",
    "        msg_tokens.append(f\"Control_{single_msg.control}_{single_msg.value}\")\n",
    "    elif single_msg.type == \"program_change\":\n",
    "        msg_tokens.append(f\"Program_{single_msg.program}\")\n",
    "    elif single_msg.type == \"time_signature\":\n",
    "        msg_tokens.append(f\"Time_Signature_{single_msg.numerator}/{single_msg.denominator}\")\n",
    "    elif single_msg.type == \"set_tempo\":\n",
    "        msg_tokens.append(f\"Tempo_{single_msg.tempo}\")\n",
    "    elif single_msg.type == \"sysex\":\n",
    "        # 跳过sysex\n",
    "        pass\n",
    "    elif single_msg.type == \"pitchwheel\":\n",
    "        # print(msg)\n",
    "        msg_tokens.append(f\"Pitchwheel_{single_msg.pitch}\")\n",
    "    else:\n",
    "        raise Exception(f\"Unknown message type: {single_msg.type}\")\n",
    "    return msg_tokens\n",
    "\n",
    "def tokenize(midi):\n",
    "    final = []\n",
    "    final.append(f\"TicksPerBeat{midi.ticks_per_beat}\")\n",
    "    for i, track in enumerate(midi.tracks):\n",
    "        final.append(f\"StartTrack_{i}\")\n",
    "        for msg in track:\n",
    "            for token in msg_to_token(msg):\n",
    "                final.append(token)\n",
    "        final.append(f\"EndTrack_{i}\")\n",
    "    return final\n",
    "\n",
    "\n",
    "tokenize(midi)\n",
    "# print(midi.ticks_per_beat)"
   ],
   "id": "8b061da550b8da2b",
   "outputs": [
    {
     "data": {
      "text/plain": [
       "['TicksPerBeat480',\n",
       " 'StartTrack_0',\n",
       " 'Program_12',\n",
       " 'Wait_32',\n",
       " 'Note_On_64',\n",
       " 'Velocity_64',\n",
       " 'Wait_32',\n",
       " 'Note_Off_64',\n",
       " 'EndTrack_0',\n",
       " 'StartTrack_1',\n",
       " 'Program_12',\n",
       " 'Wait_256',\n",
       " 'Note_On_64',\n",
       " 'Velocity_64',\n",
       " 'EndTrack_1']"
      ]
     },
     "execution_count": 47,
     "metadata": {},
     "output_type": "execute_result"
    }
   ],
   "execution_count": 47
  },
  {
   "metadata": {
    "ExecuteTime": {
     "end_time": "2024-12-04T06:32:44.582609Z",
     "start_time": "2024-12-04T06:32:44.575943Z"
    }
   },
   "cell_type": "code",
   "source": [
    "real = MidiFile(\"./dataset/nesmdb/nesmdb_midi/nesmdb_midi/train/000_10_YardFight_00_01GameStart.mid\")\n",
    "tokenize(real)"
   ],
   "id": "1b2b1fb9f86a9656",
   "outputs": [
    {
     "data": {
      "text/plain": [
       "['Program_80',\n",
       " 'Control_12_3',\n",
       " 'Note_On_65',\n",
       " 'Velocity_15',\n",
       " 'Control_11_14',\n",
       " 'Control_11_15',\n",
       " 'Control_11_14',\n",
       " 'Control_11_13',\n",
       " 'Control_11_12',\n",
       " 'Control_11_11',\n",
       " 'Control_11_10',\n",
       " 'Control_11_9',\n",
       " 'Note_Off_65',\n",
       " 'Note_On_69',\n",
       " 'Velocity_9',\n",
       " 'Control_11_15',\n",
       " 'Control_11_14',\n",
       " 'Control_11_13',\n",
       " 'Note_On_65',\n",
       " 'Velocity_13',\n",
       " 'Note_Off_69',\n",
       " 'Control_11_15',\n",
       " 'Control_11_14',\n",
       " 'Control_11_13',\n",
       " 'Note_Off_65',\n",
       " 'Note_On_69',\n",
       " 'Velocity_13',\n",
       " 'Control_11_15',\n",
       " 'Control_11_14',\n",
       " 'Control_11_13',\n",
       " 'Note_Off_69',\n",
       " 'Note_On_70',\n",
       " 'Velocity_13',\n",
       " 'Control_11_15',\n",
       " 'Control_11_14',\n",
       " 'Control_11_13',\n",
       " 'Control_11_15',\n",
       " 'Control_11_14',\n",
       " 'Control_11_13',\n",
       " 'Control_11_12',\n",
       " 'Control_11_11',\n",
       " 'Control_11_10',\n",
       " 'Control_11_9',\n",
       " 'Note_Off_70',\n",
       " 'Note_On_74',\n",
       " 'Velocity_9',\n",
       " 'Control_11_15',\n",
       " 'Control_11_14',\n",
       " 'Control_11_13',\n",
       " 'Note_On_70',\n",
       " 'Velocity_13',\n",
       " 'Note_Off_74',\n",
       " 'Control_11_15',\n",
       " 'Control_11_14',\n",
       " 'Control_11_13',\n",
       " 'Note_Off_70',\n",
       " 'Note_On_74',\n",
       " 'Velocity_13',\n",
       " 'Control_11_15',\n",
       " 'Control_11_14',\n",
       " 'Control_11_13',\n",
       " 'Note_Off_74',\n",
       " 'Note_On_77',\n",
       " 'Velocity_13',\n",
       " 'Control_11_15',\n",
       " 'Control_11_14',\n",
       " 'Control_11_13',\n",
       " 'Control_11_12',\n",
       " 'Control_11_11',\n",
       " 'Control_11_10',\n",
       " 'Control_11_9',\n",
       " 'Control_11_8',\n",
       " 'Control_11_7',\n",
       " 'Control_11_6',\n",
       " 'Control_11_5',\n",
       " 'Control_11_4',\n",
       " 'Control_11_3',\n",
       " 'Control_11_2',\n",
       " 'Control_11_1',\n",
       " 'Note_Off_77',\n",
       " 'Program_81',\n",
       " 'Program_38',\n",
       " 'Note_On_62',\n",
       " 'Velocity_1',\n",
       " 'Note_Off_62',\n",
       " 'Note_On_65',\n",
       " 'Velocity_1',\n",
       " 'Note_On_62',\n",
       " 'Velocity_1',\n",
       " 'Note_Off_65',\n",
       " 'Note_Off_62',\n",
       " 'Note_On_65',\n",
       " 'Velocity_1',\n",
       " 'Note_Off_65',\n",
       " 'Note_On_67',\n",
       " 'Velocity_1',\n",
       " 'Note_Off_67',\n",
       " 'Note_On_70',\n",
       " 'Velocity_1',\n",
       " 'Note_On_67',\n",
       " 'Velocity_1',\n",
       " 'Note_Off_70',\n",
       " 'Note_Off_67',\n",
       " 'Note_On_70',\n",
       " 'Velocity_1',\n",
       " 'Note_Off_70',\n",
       " 'Note_On_74',\n",
       " 'Velocity_1',\n",
       " 'Note_Off_74',\n",
       " 'Program_121']"
      ]
     },
     "execution_count": 34,
     "metadata": {},
     "output_type": "execute_result"
    }
   ],
   "execution_count": 34
  },
  {
   "metadata": {},
   "cell_type": "code",
   "outputs": [],
   "execution_count": null,
   "source": "",
   "id": "9795fc6ee16d907e"
  }
 ],
 "metadata": {
  "kernelspec": {
   "display_name": "Python 3",
   "language": "python",
   "name": "python3"
  },
  "language_info": {
   "codemirror_mode": {
    "name": "ipython",
    "version": 2
   },
   "file_extension": ".py",
   "mimetype": "text/x-python",
   "name": "python",
   "nbconvert_exporter": "python",
   "pygments_lexer": "ipython2",
   "version": "2.7.6"
  }
 },
 "nbformat": 4,
 "nbformat_minor": 5
}
